{
 "cells": [
  {
   "cell_type": "code",
   "execution_count": 4,
   "metadata": {
    "collapsed": false
   },
   "outputs": [
    {
     "ename": "ImportError",
     "evalue": "No module named collect_audio",
     "output_type": "error",
     "traceback": [
      "\u001b[0;31m---------------------------------------------------------------------------\u001b[0m",
      "\u001b[0;31mImportError\u001b[0m                               Traceback (most recent call last)",
      "\u001b[0;32m<ipython-input-4-8663e4c50f1f>\u001b[0m in \u001b[0;36m<module>\u001b[0;34m()\u001b[0m\n\u001b[1;32m      4\u001b[0m \u001b[0;34m\u001b[0m\u001b[0m\n\u001b[1;32m      5\u001b[0m \u001b[0;32mfrom\u001b[0m \u001b[0mIPython\u001b[0m\u001b[0;34m.\u001b[0m\u001b[0mdisplay\u001b[0m \u001b[0;32mimport\u001b[0m \u001b[0mAudio\u001b[0m\u001b[0;34m\u001b[0m\u001b[0m\n\u001b[0;32m----> 6\u001b[0;31m \u001b[0;32mfrom\u001b[0m \u001b[0mcollect_audio\u001b[0m \u001b[0;32mimport\u001b[0m \u001b[0mread_from_file\u001b[0m\u001b[0;34m\u001b[0m\u001b[0m\n\u001b[0m\u001b[1;32m      7\u001b[0m \u001b[0;32mimport\u001b[0m \u001b[0mfilters\u001b[0m\u001b[0;34m\u001b[0m\u001b[0m\n\u001b[1;32m      8\u001b[0m \u001b[0;32mimport\u001b[0m \u001b[0msys\u001b[0m\u001b[0;34m\u001b[0m\u001b[0m\n",
      "\u001b[0;31mImportError\u001b[0m: No module named collect_audio"
     ]
    }
   ],
   "source": [
    "import time\n",
    "import matplotlib.pyplot as plt\n",
    "%matplotlib inline\n",
    "\n",
    "from IPython.display import Audio\n",
    "from collect_audio import read_from_file\n",
    "import filters\n",
    "import sys\n",
    "sys.path.append(\"../helpers\")\n",
    "import os\n",
    "if os.name == 'posix': #unfortunately, we can't do this with windows :(\n",
    "    from collect_audio import read_from_arduino"
   ]
  },
  {
   "cell_type": "markdown",
   "metadata": {},
   "source": [
    "# Collecting and Processing Audio Signals with Arduino and Python"
   ]
  },
  {
   "cell_type": "markdown",
   "metadata": {},
   "source": [
    "In this lab we will be working with audio signals recorded with the Adafruit Metro Mini microcontroller and the electret microphone with built in amplifier. The lab will focus on loading signals into Python, signal visualization and playback, signal analysis."
   ]
  },
  {
   "cell_type": "markdown",
   "metadata": {},
   "source": [
    "## 1) Collecting Audio Signals\n",
    "\n",
    "The first thing we need to do is get the signal loaded into Python. In other words, we need to take the analog signal (your voice) and represent it as a collection of samples in Python."
   ]
  },
  {
   "cell_type": "markdown",
   "metadata": {},
   "source": [
    "### a) Hardware Setup\n",
    "\n",
    "Begin by wiring the microphone as in the image below with the following connections:\n",
    "- OUT -> A0\n",
    "- GND -> GND\n",
    "- VCC -> 3V\n",
    "\n"
   ]
  },
  {
   "cell_type": "markdown",
   "metadata": {},
   "source": [
    "<img src=\"../images/hardware_setup.jpg\" height=300 width=300/>"
   ]
  },
  {
   "cell_type": "markdown",
   "metadata": {},
   "source": [
    "Once you have the wiring completed, click this <a href=\"https://gist.github.com/gabeschamberg/b4b04254b03e774a4bf799267b8ffecf/archive/3d0581d3646fe4782251c03b19c5a3f91b3791a2.zip\">link</a> to download an Arduino sketch to load to the microcontroller. This is a very basic sketch that repeteadly calls $\\texttt{analogRead}$ and then passes the sample over an 115200 baud serial connection. Once the sketch is loaded to the microcontroller, use the serial plotter in the Arduino IDE to ensure that the wiring is correct!"
   ]
  },
  {
   "cell_type": "markdown",
   "metadata": {},
   "source": [
    "### b) Importing Data to Python\n",
    "Once you are able to see data streaming over serial, we are ready to import the data into Python. There are two ways to do this:\n",
    "\n",
    "**1)** *read_from_file()* - Using the serial monitor, copy paste the samples into a text editor and save the file as a .txt file in the same folder as where this notebook is saved. Then, use the *read_from_file* function in the next cell to read the data, replacing the filename with the name of your file. You can try loading the file \"recording.txt\" as an example.\n",
    "\n",
    "**2)** *read_from_arduino()* - ***Unfortunately, this method will not work with Windows computers.*** For non-windows users, you can use this method to directly read samples into Python from the microcontroller. Using the *read_from_arduino* function, specify the desired duration of the recording and then change the port name to match the one you find in the Arduino menu (Tools -> Port).\n",
    "\n",
    "Uncomment the line for the method you will use. After loading the data, we'll print the number of samples it contains to confirm it worked!"
   ]
  },
  {
   "cell_type": "code",
   "execution_count": null,
   "metadata": {
    "collapsed": false
   },
   "outputs": [],
   "source": [
    "#data = read_from_file(filename=\"recording.txt\")\n",
    "#data = read_from_arduino(duration=10,port=\"/dev/tty.usbserial-ABCDEFG\")\n",
    "\n",
    "print str(data.shape[0]) + \" samples loaded\""
   ]
  },
  {
   "cell_type": "markdown",
   "metadata": {},
   "source": [
    "## 2) Audio Playback and Visualization\n",
    "Now that we have the data, let's plot it to see what it looks like. You should be able to identify where on the signal you are making sound!"
   ]
  },
  {
   "cell_type": "code",
   "execution_count": null,
   "metadata": {
    "collapsed": true
   },
   "outputs": [],
   "source": [
    "plt.plot(data)\n",
    "plt.xlabel('Samples')\n",
    "plt.ylabel('Amplitude')"
   ]
  },
  {
   "cell_type": "markdown",
   "metadata": {},
   "source": [
    "Now we want to listen to the audio we recorded. Recall that the samples that you have loaded into Python do not have time associated with them, so we need to tell the computer what the sample rate is so that it can play back the audio at the correct speed.\n",
    "\n",
    "To figure out the sample rate, we note that our serial connection uses a baudrate of 115200. That means that it can communicate 115200 bits per second! But each sample uses 10 bits, so 115200 is NOT the sample rate. Let's estimate the sample rate by taking:\n",
    "\n",
    "$$\\frac{115200\\frac{bits}{second}}{10\\frac{bits}{sample}} = 11520 \\frac{samples}{second} = 11.5 kHz$$\n",
    "\n",
    "Hmm... CD players use a sample rate of $44.1kHz$, which is almost 4 times as many samples per second! Well, let's give it a shot anyway."
   ]
  },
  {
   "cell_type": "code",
   "execution_count": null,
   "metadata": {
    "collapsed": true
   },
   "outputs": [],
   "source": [
    "Audio(data,rate=11520)"
   ]
  },
  {
   "cell_type": "markdown",
   "metadata": {},
   "source": [
    "That didn't quite sound right... The reason is that these microcontrollers are not designed to be able to maintain a precise sample rate, much less a fast enough sample rate. Experiment with the rate to see if you can get a more normal sounding audio signal. Note that the rate cannot go below $3000Hz$, because at that point it will barely be able to create audible frequencies!"
   ]
  },
  {
   "cell_type": "markdown",
   "metadata": {},
   "source": [
    "## 3) Signal Analysis\n",
    "Lastly, let's do two types of analysis on the recorded signal."
   ]
  },
  {
   "cell_type": "markdown",
   "metadata": {},
   "source": [
    "### a) Frequency Analysis\n",
    "As we learned above, the true sample rate of the signal is even less than $3000Hz$. For now, let's assume that it is $3000Hz$. Below we make a spectrogram of the data signal using that assumption."
   ]
  },
  {
   "cell_type": "code",
   "execution_count": null,
   "metadata": {
    "collapsed": false
   },
   "outputs": [],
   "source": [
    "# create the spectogram plot\n",
    "S, freqs, bins, im = plt.specgram(data, NFFT=1024, Fs=3000, noverlap=512)\n",
    "# add labels\n",
    "plt.xlabel('Time [s]')\n",
    "plt.ylabel('Frequency [Hz]')\n",
    "plt.xlim([0,len(data)/3000])\n",
    "plt.ylim([0,1500]);"
   ]
  },
  {
   "cell_type": "markdown",
   "metadata": {},
   "source": [
    "It seems like there is activity at all frequencies at first glance, but when we look at the y-axis we see this is not the case! Recall last week that the audio files we used had activity in frequencies above $20kHz$! Due to our low sample rate, it sounds as though the signal was passed through a low-pass filter because we can only capture low frequencies."
   ]
  },
  {
   "cell_type": "markdown",
   "metadata": {},
   "source": [
    "### b) Probability Analysis of Noise\n",
    "Now let's collect real random noise and look at a histogram of the samples. Either create a new recording or use the file \"noise.txt\" that was created by a silent recording (so that the only signal was random noise)."
   ]
  },
  {
   "cell_type": "code",
   "execution_count": null,
   "metadata": {
    "collapsed": false
   },
   "outputs": [],
   "source": [
    "noise = read_from_file(filename=\"../files/noise.txt\")\n",
    "#noise = read_from_arduino(duration=10,port=\"/dev/tty.usbserial-ABCDEFG\")\n",
    "\n",
    "print str(noise.shape[0]) + \" random samples loaded\""
   ]
  },
  {
   "cell_type": "markdown",
   "metadata": {},
   "source": [
    "Now that the samples are loaded, let's plot and listen to verify that this is just like the noise that we would expect!"
   ]
  },
  {
   "cell_type": "code",
   "execution_count": null,
   "metadata": {
    "collapsed": false
   },
   "outputs": [],
   "source": [
    "plt.plot(noise)\n",
    "plt.xlabel('Samples')\n",
    "plt.ylabel('Amplitude')\n",
    "Audio(noise, rate=3000)"
   ]
  },
  {
   "cell_type": "markdown",
   "metadata": {},
   "source": [
    "Finally, let's take a histogram of the noisy samples. Note that this is real, physical, random noise and it looks exactly like the bell curve you see when you get your test grades back!"
   ]
  },
  {
   "cell_type": "code",
   "execution_count": null,
   "metadata": {
    "collapsed": false
   },
   "outputs": [],
   "source": [
    "plt.hist(noise,bins=100); \n",
    "plt.xlabel('Sample Value'); \n",
    "plt.title('Histogram of Noise Samples')\n",
    "plt.ylabel('Number of Occurrences');"
   ]
  }
 ],
 "metadata": {
  "kernelspec": {
   "display_name": "Python 2",
   "language": "python",
   "name": "python2"
  },
  "language_info": {
   "codemirror_mode": {
    "name": "ipython",
    "version": 2
   },
   "file_extension": ".py",
   "mimetype": "text/x-python",
   "name": "python",
   "nbconvert_exporter": "python",
   "pygments_lexer": "ipython2",
   "version": "2.7.10"
  },
  "latex_envs": {
   "bibliofile": "biblio.bib",
   "cite_by": "apalike",
   "current_citInitial": 1,
   "eqLabelWithNumbers": true,
   "eqNumInitial": 0
  },
  "widgets": {
   "state": {},
   "version": "1.1.1"
  }
 },
 "nbformat": 4,
 "nbformat_minor": 0
}
