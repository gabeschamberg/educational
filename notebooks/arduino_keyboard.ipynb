{
 "cells": [
  {
   "cell_type": "code",
   "execution_count": 6,
   "metadata": {
    "collapsed": false
   },
   "outputs": [],
   "source": [
    "from __future__ import print_function, division # Make compatible with Python 2\n",
    "import sys\n",
    "sys.path.append(\"../helpers\")\n",
    "from keyboard import ToneGenerator\n",
    "import arduinoserial\n",
    "import numpy as np\n",
    "import time"
   ]
  },
  {
   "cell_type": "markdown",
   "metadata": {},
   "source": [
    "# Arduino Keyboard\n",
    "For this lab we're going to use the Arduino as a keyboard to play music. \n"
   ]
  },
  {
   "cell_type": "markdown",
   "metadata": {},
   "source": [
    "For the hardware setup, we connect digital pins to rows on the breadboard and then use extra wires to connect certain pins to ground to activate them. The code is written to use the digital pins 4,5,6,7,8,9 and 10. On the other side, we connect the GND pin to the blue strip where we will attach the extra wires.\n",
    "\n",
    "<img src=\"../images/keyboard_hardware.jpg\" height=400 width=400/>\n",
    "\n",
    "Once you have the wiring completed, click this <a href=\"https://gist.github.com/gabeschamberg/a88a1321673c839323effd66284e3a80/archive/0893667fadd4cde07d414b55b5e854a0db0193ce.zip\">link</a> to download an Arduino sketch to load to the microcontroller. This is a very basic sketch that repeteadly calls $\\texttt{digitalRead}$ to see which pins (if any) are connected and then passes the data over a 9600 baud serial connection. Once the sketch is loaded to the microcontroller, use the serial monitor in the Arduino IDE to ensure that the wiring is correct! Touch the various pins to ground and see if it changes the outputs to 0."
   ]
  },
  {
   "cell_type": "markdown",
   "metadata": {},
   "source": [
    "Once the hardware is setup we can use the code below to play sound through the computer. By touching the grounded wires to the input pins we have made makeshift buttons! The first thing you need to do is fill in the correct port in the first line. You can find the port in the Arduino IDE menu under Tools->Port. When you're done, click the stop button to close the audio stream. Here are some troubleshooting tips to help get the code to work:\n",
    "\n",
    "- ***xxx not defined*** - Make sure to run the block of import commands at the top\n",
    "- ***No such file or directory: 'xxx'*** - Make sure the port you entered is correct and the Arduino is plugged in\n",
    "- ***Resource busy: 'xxx'*** - The serial port is being used by the serial monitor. Unplug the board and plug it back in.\n",
    "- ***General Tips*** - When in doubt, it doesn't hurt to unplug and plug in the board and restart the kernel (the circular arrow button at the top). When you do this, you'll need to rerun the import block at the top.\n"
   ]
  },
  {
   "cell_type": "code",
   "execution_count": null,
   "metadata": {
    "collapsed": false
   },
   "outputs": [],
   "source": [
    "# USB port (found in Arduino ide)\n",
    "port = \"/dev/cu.usbserial-ADAOJEPFJ\"\n",
    "\n",
    "keyboard = ToneGenerator()\n",
    "duration = 0\n",
    "amplitude = 0.5\n",
    "keyboard.play(440.00,duration,amplitude)\n",
    "\n",
    "keyboard.switch(0,'on')\n",
    "start = time.time()\n",
    "while time.time()-start < 0.3:pass\n",
    "keyboard.switch(0,'off')\n",
    "\n",
    "keyboard.switch(1,'on')\n",
    "start = time.time()\n",
    "while time.time()-start < 0.3:pass\n",
    "keyboard.switch(1,'off')\n",
    "\n",
    "keyboard.switch(2,'on')\n",
    "start = time.time()\n",
    "while time.time()-start < 0.3:pass\n",
    "keyboard.switch(2,'off')\n",
    "\n",
    "keyboard.switch(3,'on')\n",
    "start = time.time()\n",
    "while time.time()-start < 0.3:pass\n",
    "keyboard.switch(3,'off')\n",
    "\n",
    "keyboard.switch(4,'on')\n",
    "start = time.time()\n",
    "while time.time()-start < 0.3:pass\n",
    "keyboard.switch(4,'off')\n",
    "\n",
    "keyboard.switch(5,'on')\n",
    "start = time.time()\n",
    "while time.time()-start < 0.3:pass\n",
    "keyboard.switch(5,'off')\n",
    "\n",
    "keyboard.switch(6,'on')\n",
    "start = time.time()\n",
    "while time.time()-start < 0.3:pass\n",
    "keyboard.switch(6,'off')\n",
    "\n",
    "\n",
    "arduino = arduinoserial.SerialPort(port, 9600)\n",
    "i = 1\n",
    "try:\n",
    "    while(1):\n",
    "        try:\n",
    "            line = arduino.read_until('\\n')\n",
    "        except ValueError:\n",
    "            line = \"\"\n",
    "        notes = line.split(',')\n",
    "        if(len(notes) == 7):\n",
    "            for note in range(7):\n",
    "                if(notes[note].rstrip()=='0'):\n",
    "                    keyboard.switch(note,\"on\")\n",
    "                else:\n",
    "                    keyboard.switch(note,\"off\")\n",
    "\n",
    "except KeyboardInterrupt:\n",
    "    keyboard.close()\n",
    "    print(\"Closing!\")"
   ]
  },
  {
   "cell_type": "markdown",
   "metadata": {},
   "source": [
    "Once you get the code working, you can get creative with makeshift buttons! By connecting the ground to a piece of metal, you can then touch the pin connections to the metal to create sounds. Try making a coffee thermos or soda can keyboard!"
   ]
  }
 ],
 "metadata": {
  "kernelspec": {
   "display_name": "Python 2",
   "language": "python",
   "name": "python2"
  },
  "language_info": {
   "codemirror_mode": {
    "name": "ipython",
    "version": 2
   },
   "file_extension": ".py",
   "mimetype": "text/x-python",
   "name": "python",
   "nbconvert_exporter": "python",
   "pygments_lexer": "ipython2",
   "version": "2.7.10"
  },
  "latex_envs": {
   "bibliofile": "biblio.bib",
   "cite_by": "apalike",
   "current_citInitial": 1,
   "eqLabelWithNumbers": true,
   "eqNumInitial": 0
  },
  "widgets": {
   "state": {},
   "version": "1.1.1"
  }
 },
 "nbformat": 4,
 "nbformat_minor": 0
}
