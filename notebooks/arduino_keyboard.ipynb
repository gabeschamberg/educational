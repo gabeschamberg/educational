{
 "cells": [
  {
   "cell_type": "code",
   "execution_count": 1,
   "metadata": {
    "collapsed": false
   },
   "outputs": [],
   "source": [
    "from __future__ import print_function, division # Make compatible with Python 2\n",
    "import sys\n",
    "sys.path.append(\"../helpers\")\n",
    "from keyboard import ToneGenerator\n",
    "import arduinoserial\n",
    "import numpy as np\n",
    "import time"
   ]
  },
  {
   "cell_type": "markdown",
   "metadata": {},
   "source": [
    "# Arduino Keyboard\n",
    "For this lab we're going to use the Arduino as a keyboard to play music. \n"
   ]
  },
  {
   "cell_type": "code",
   "execution_count": 2,
   "metadata": {
    "collapsed": false
   },
   "outputs": [
    {
     "name": "stdout",
     "output_type": "stream",
     "text": [
      "Closing!\n"
     ]
    }
   ],
   "source": [
    "keyboard = ToneGenerator()\n",
    "duration = 0\n",
    "amplitude = 0.5\n",
    "keyboard.play(440.00,duration,amplitude)\n",
    "\n",
    "keyboard.switch(0,'on')\n",
    "start = time.time()\n",
    "while time.time()-start < 0.5:pass\n",
    "keyboard.switch(0,'off')\n",
    "\n",
    "keyboard.switch(1,'on')\n",
    "start = time.time()\n",
    "while time.time()-start < 0.5:pass\n",
    "keyboard.switch(1,'off')\n",
    "\n",
    "keyboard.switch(2,'on')\n",
    "start = time.time()\n",
    "while time.time()-start < 0.5:pass\n",
    "keyboard.switch(2,'off')\n",
    "\n",
    "keyboard.switch(3,'on')\n",
    "start = time.time()\n",
    "while time.time()-start < 0.5:pass\n",
    "keyboard.switch(3,'off')\n",
    "\n",
    "keyboard.switch(4,'on')\n",
    "start = time.time()\n",
    "while time.time()-start < 0.5:pass\n",
    "keyboard.switch(4,'off')\n",
    "\n",
    "keyboard.switch(5,'on')\n",
    "start = time.time()\n",
    "while time.time()-start < 0.5:pass\n",
    "keyboard.switch(5,'off')\n",
    "\n",
    "keyboard.switch(6,'on')\n",
    "start = time.time()\n",
    "while time.time()-start < 0.5:pass\n",
    "keyboard.switch(6,'off')\n",
    "\n",
    "\n",
    "# USB port (found in Arduino ide)\n",
    "port = \"/dev/cu.usbserial-ADAOJEPFJ\"\n",
    "\n",
    "arduino = arduinoserial.SerialPort(port, 9600)\n",
    "i = 1\n",
    "try:\n",
    "    while(1):\n",
    "        try:\n",
    "            line = arduino.read_until('\\n')\n",
    "        except ValueError:\n",
    "            line = \"\"\n",
    "        notes = line.split(',')\n",
    "        if(len(notes) == 7):\n",
    "            for note in range(7):\n",
    "                if(notes[note].rstrip()=='0'):\n",
    "                    keyboard.switch(note,\"on\")\n",
    "                else:\n",
    "                    keyboard.switch(note,\"off\")\n",
    "\n",
    "except KeyboardInterrupt:\n",
    "    keyboard.close()\n",
    "    print(\"Closing!\")"
   ]
  },
  {
   "cell_type": "markdown",
   "metadata": {},
   "source": [
    "# Controlling Audio In Real Time\n",
    "For this lab we're going to use the Arduino to control audio playing from the computer in real time. We'll do this by reading values from a potentiometer over serial and use those values to modulate the frequency of a tone."
   ]
  },
  {
   "cell_type": "code",
   "execution_count": null,
   "metadata": {
    "collapsed": true
   },
   "outputs": [],
   "source": []
  }
 ],
 "metadata": {
  "kernelspec": {
   "display_name": "Python 2",
   "language": "python",
   "name": "python2"
  },
  "language_info": {
   "codemirror_mode": {
    "name": "ipython",
    "version": 2
   },
   "file_extension": ".py",
   "mimetype": "text/x-python",
   "name": "python",
   "nbconvert_exporter": "python",
   "pygments_lexer": "ipython2",
   "version": "2.7.10"
  },
  "latex_envs": {
   "bibliofile": "biblio.bib",
   "cite_by": "apalike",
   "current_citInitial": 1,
   "eqLabelWithNumbers": true,
   "eqNumInitial": 0
  },
  "widgets": {
   "state": {},
   "version": "1.1.1"
  }
 },
 "nbformat": 4,
 "nbformat_minor": 0
}
