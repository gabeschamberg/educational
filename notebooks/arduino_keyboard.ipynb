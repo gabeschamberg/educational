{
 "cells": [
  {
   "cell_type": "code",
   "execution_count": 3,
   "metadata": {
    "collapsed": false
   },
   "outputs": [],
   "source": [
    "from __future__ import print_function, division # Make compatible with Python 2\n",
    "import sys\n",
    "sys.path.append(\"../helpers\")\n",
    "from tone_generator import ToneGenerator\n",
    "import arduinoserial\n",
    "import numpy as np"
   ]
  },
  {
   "cell_type": "code",
   "execution_count": null,
   "metadata": {
    "collapsed": true
   },
   "outputs": [],
   "source": [
    "generator = ToneGenerator()\n",
    "\n",
    "# Minimum frequency to allow\n",
    "min_frequency = 300\n",
    "# Maximum frequency to allow\n",
    "max_frequency = 700\n",
    "# Duration of tone\n",
    "duration = 20   \n",
    "# Volume of tone\n",
    "amplitude = 0.5\n",
    "# USB port (found in Arduino ide)\n",
    "port = \"/dev/cu.usbserial-ADAOJEPFJ\"\n",
    "\n",
    "arduino = arduinoserial.SerialPort(port, 115200)\n",
    "\n",
    "frequency = min_frequency\n",
    "generator.play(frequency, duration, amplitude)\n",
    "while generator.is_playing():\n",
    "    try:\n",
    "        value = float(arduino.read_until('\\n'))\n",
    "        frequency = min_frequency + value*(max_frequency-min_frequency)//1023\n",
    "    except ValueError:\n",
    "        pass\n",
    "    generator.update_frequency(frequency)"
   ]
  },
  {
   "cell_type": "code",
   "execution_count": 7,
   "metadata": {
    "collapsed": false
   },
   "outputs": [
    {
     "name": "stdout",
     "output_type": "stream",
     "text": [
      "['124', '3', 'asd', '3', 'asdg']\n"
     ]
    }
   ],
   "source": [
    "string = \"124,3,asd,3,asdg\"\n",
    "a = string.split(',')\n",
    "print(a)"
   ]
  }
 ],
 "metadata": {
  "kernelspec": {
   "display_name": "Python 2",
   "language": "python",
   "name": "python2"
  },
  "language_info": {
   "codemirror_mode": {
    "name": "ipython",
    "version": 2
   },
   "file_extension": ".py",
   "mimetype": "text/x-python",
   "name": "python",
   "nbconvert_exporter": "python",
   "pygments_lexer": "ipython2",
   "version": "2.7.10"
  },
  "latex_envs": {
   "bibliofile": "biblio.bib",
   "cite_by": "apalike",
   "current_citInitial": 1,
   "eqLabelWithNumbers": true,
   "eqNumInitial": 0
  },
  "widgets": {
   "state": {},
   "version": "1.1.1"
  }
 },
 "nbformat": 4,
 "nbformat_minor": 0
}
