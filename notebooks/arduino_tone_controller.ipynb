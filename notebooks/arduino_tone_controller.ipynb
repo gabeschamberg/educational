{
 "cells": [
  {
   "cell_type": "code",
   "execution_count": 2,
   "metadata": {
    "collapsed": false
   },
   "outputs": [],
   "source": [
    "# Include helper functions\n",
    "from tone_generator import ToneGenerator\n",
    "import arduinoserial\n",
    "import numpy as np"
   ]
  },
  {
   "cell_type": "markdown",
   "metadata": {},
   "source": [
    "# Controlling Audio In Real Time\n",
    "For this lab we're going to use the Arduino to control audio playing from the computer in real time. We'll do this by reading values from a potentiometer over serial and use those values to modulate the frequency of a tone."
   ]
  },
  {
   "cell_type": "markdown",
   "metadata": {},
   "source": [
    "## 1) Hardware Setup\n",
    "The hardware setup is very similar to the setup used to read in microphone values. We will hook up a potentiometer using the following connections:\n",
    "\n",
    "- Center Pin -> A0\n",
    "- Right Pin -> GND\n",
    "- Left Pin -> 5V\n",
    "\n",
    "<img src=\"tone_control_hardware.jpg\" height=500 width=500/>\n",
    "\n",
    "Once you have the wiring completed, click this <a href=\"https://gist.github.com/gabeschamberg/f1475481eac817f5cc6aa172b4859a3a/archive/107a64621172811f19b377c7eba2a5d97b39cc1a.zip\">link</a> to download an Arduino sketch to load to the microcontroller. This is a very basic sketch that repeteadly calls $\\texttt{analogRead}$ and then passes the sample over an 115200 baud serial connection. Once the sketch is loaded to the microcontroller, use the serial plotter in the Arduino IDE to ensure that the wiring is correct!"
   ]
  },
  {
   "cell_type": "markdown",
   "metadata": {},
   "source": [
    "## 2) Controlling the Pitch of a Tone\n",
    "The code below plays a tone and modifies the pitch as the potentiometer is adjusted. Experiment with the parameters and try to understand how the affect the behavior of the system. Make sure you fill in the correct name for the USB port as found in the Arduino IDE!"
   ]
  },
  {
   "cell_type": "code",
   "execution_count": 7,
   "metadata": {
    "collapsed": false
   },
   "outputs": [],
   "source": [
    "generator = ToneGenerator()\n",
    "\n",
    "# Minimum frequency to allow\n",
    "min_frequency = 300\n",
    "# Maximum frequency to allow\n",
    "max_frequency = 700\n",
    "# Duration of tone\n",
    "duration = 20   \n",
    "# Volume of tone\n",
    "amplitude = 0.5\n",
    "# USB port (found in Arduino ide)\n",
    "port = \"/dev/cu.usbserial-ADAOJEPFJ\"\n",
    "\n",
    "arduino = arduinoserial.SerialPort(port, 115200)\n",
    "\n",
    "frequency = min_frequency\n",
    "generator.play(frequency, duration, amplitude)\n",
    "while generator.is_playing():\n",
    "    try:\n",
    "        value = float(arduino.read_until('\\n'))\n",
    "        frequency = min_frequency + value*(max_frequency-min_frequency)//1023\n",
    "    except ValueError:\n",
    "        pass\n",
    "    generator.update_frequency(frequency)"
   ]
  }
 ],
 "metadata": {
  "kernelspec": {
   "display_name": "Python 2",
   "language": "python",
   "name": "python2"
  },
  "language_info": {
   "codemirror_mode": {
    "name": "ipython",
    "version": 2
   },
   "file_extension": ".py",
   "mimetype": "text/x-python",
   "name": "python",
   "nbconvert_exporter": "python",
   "pygments_lexer": "ipython2",
   "version": "2.7.10"
  },
  "latex_envs": {
   "bibliofile": "biblio.bib",
   "cite_by": "apalike",
   "current_citInitial": 1,
   "eqLabelWithNumbers": true,
   "eqNumInitial": 0
  },
  "widgets": {
   "state": {},
   "version": "1.1.1"
  }
 },
 "nbformat": 4,
 "nbformat_minor": 0
}
