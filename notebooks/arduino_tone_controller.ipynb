{
 "cells": [
  {
   "cell_type": "code",
   "execution_count": 4,
   "metadata": {
    "collapsed": false
   },
   "outputs": [],
   "source": [
    "# Include helper functions\n",
    "import sys\n",
    "sys.path.append(\"../helpers\")\n",
    "from tone_generator import ToneGenerator"
   ]
  },
  {
   "cell_type": "code",
   "execution_count": null,
   "metadata": {
    "collapsed": true
   },
   "outputs": [],
   "source": [
    "generator = ToneGenerator()\n",
    "\n",
    "frequency_start = 500       # Frequency to start the sweep from\n",
    "frequency_end = 10000       # Frequency to end the sweep at\n",
    "num_frequencies = 1       # Number of frequencies in the sweep\n",
    "amplitude = 0.50            # Amplitude of the waveform\n",
    "step_duration = 3        # Time (seconds) to play at each step\n",
    "\n",
    "\n",
    "generator.play(500, 6, amplitude)\n",
    "while generator.is_playing():"
   ]
  }
 ],
 "metadata": {
  "kernelspec": {
   "display_name": "Python 2",
   "language": "python",
   "name": "python2"
  },
  "language_info": {
   "codemirror_mode": {
    "name": "ipython",
    "version": 2
   },
   "file_extension": ".py",
   "mimetype": "text/x-python",
   "name": "python",
   "nbconvert_exporter": "python",
   "pygments_lexer": "ipython2",
   "version": "2.7.10"
  },
  "latex_envs": {
   "bibliofile": "biblio.bib",
   "cite_by": "apalike",
   "current_citInitial": 1,
   "eqLabelWithNumbers": true,
   "eqNumInitial": 0
  },
  "widgets": {
   "state": {},
   "version": "1.1.1"
  }
 },
 "nbformat": 4,
 "nbformat_minor": 0
}
