{
 "cells": [
  {
   "cell_type": "code",
   "execution_count": 1,
   "metadata": {
    "code_folding": [],
    "collapsed": false,
    "slideshow": {
     "slide_type": "skip"
    }
   },
   "outputs": [],
   "source": [
    "from __future__ import print_function, division # Make compatible with Python 2\n",
    "\n",
    "import matplotlib.pyplot as plt\n",
    "%matplotlib inline\n",
    "import numpy as np\n",
    "\n",
    "import sys\n",
    "sys.path.append(\"../helpers\")\n",
    "from signal_modeling import gen_data, gen_trials\n",
    "\n",
    "from ipywidgets import interact, interactive, fixed, FloatSlider\n",
    "import ipywidgets as widgets\n",
    "\n",
    "import scipy.optimize as optimization\n",
    "   \n",
    "import warnings\n",
    "warnings.filterwarnings('ignore')"
   ]
  },
  {
   "cell_type": "markdown",
   "metadata": {
    "slideshow": {
     "slide_type": "slide"
    }
   },
   "source": [
    "# Signal Modeling"
   ]
  },
  {
   "cell_type": "markdown",
   "metadata": {
    "slideshow": {
     "slide_type": "slide"
    }
   },
   "source": [
    "The goal of signal modeling is to represent a collection of data using *model parameters*"
   ]
  },
  {
   "cell_type": "markdown",
   "metadata": {
    "slideshow": {
     "slide_type": "fragment"
    }
   },
   "source": [
    "Some example applications of signal modeling are *denoising*, *compression*, and *prediction*"
   ]
  },
  {
   "cell_type": "markdown",
   "metadata": {
    "slideshow": {
     "slide_type": "fragment"
    }
   },
   "source": [
    "Let's start with a basic class of models - *linear functions*"
   ]
  },
  {
   "cell_type": "markdown",
   "metadata": {
    "slideshow": {
     "slide_type": "slide"
    }
   },
   "source": [
    "Imagine we have a collection of points, each with an $x$ value and a $y$ value."
   ]
  },
  {
   "cell_type": "code",
   "execution_count": 2,
   "metadata": {
    "collapsed": false,
    "slideshow": {
     "slide_type": "fragment"
    }
   },
   "outputs": [
    {
     "data": {
      "image/png": "[encoded data removed]",
      "text/plain": [
       "<matplotlib.figure.Figure at 0x10883ad68>"
      ]
     },
     "metadata": {},
     "output_type": "display_data"
    }
   ],
   "source": [
    "x_values = [0,1,2,3,4,5,6]\n",
    "y_values = [3,6,9,12,15,18,21]\n",
    "plt.scatter(x_values,y_values)\n",
    "plt.xlabel('x'); plt.ylabel('y'); plt.xlim([-0.1,6.1]);"
   ]
  },
  {
   "cell_type": "markdown",
   "metadata": {
    "slideshow": {
     "slide_type": "slide"
    }
   },
   "source": [
    "We see that these points can be more concisely represented with a linear function $y=ax + b$. Here we set $a=b=3$."
   ]
  },
  {
   "cell_type": "code",
   "execution_count": 221,
   "metadata": {
    "collapsed": false,
    "slideshow": {
     "slide_type": "fragment"
    }
   },
   "outputs": [
    {
     "data": {
      "image/png": "[encoded data removed]",
      "text/plain": [
       "<matplotlib.figure.Figure at 0x10c0a8240>"
      ]
     },
     "metadata": {},
     "output_type": "display_data"
    }
   ],
   "source": [
    "x_values = [0,1,2,3,4,5,6]; y_values = [3,6,9,12,15,18,21]\n",
    "a = 3; b = 3; x = np.asarray(x_values)\n",
    "plt.scatter(x_values,y_values); plt.plot(x,a*x+b) \n",
    "plt.xlabel('x'); plt.ylabel('y'); plt.xlim([-0.1,6.1]); plt.ylim([0,25]);"
   ]
  },
  {
   "cell_type": "markdown",
   "metadata": {
    "slideshow": {
     "slide_type": "fragment"
    }
   },
   "source": [
    "In this case, we can think of $y=ax+b$ as a *model*, with $a$ and $b$ as the *model parameters*. By choosing $a=b=3$, we are choosing the model parameters that best fit the model to the data."
   ]
  },
  {
   "cell_type": "markdown",
   "metadata": {
    "slideshow": {
     "slide_type": "slide"
    }
   },
   "source": [
    "Representing all the points on a line with the slope intercept form $y=ax+b$ is something we learn in algebra... How does this relate to *denoising*, *compression*, and *prediction*?"
   ]
  },
  {
   "cell_type": "markdown",
   "metadata": {
    "slideshow": {
     "slide_type": "fragment"
    }
   },
   "source": [
    "The use of signal modeling becomes much clearer when we introduce **uncertainty** into the problem."
   ]
  },
  {
   "cell_type": "markdown",
   "metadata": {
    "slideshow": {
     "slide_type": "fragment"
    }
   },
   "source": [
    "Depending on the nature of the uncertainty, different modeling techniques will work better than others. Additionally, the nature of the uncertainty determines our *interpretation* of the model."
   ]
  },
  {
   "cell_type": "markdown",
   "metadata": {
    "slideshow": {
     "slide_type": "slide"
    }
   },
   "source": [
    "One common source of uncertainty is *random noise*. Let's look at the same signal with random noise."
   ]
  },
  {
   "cell_type": "code",
   "execution_count": 16,
   "metadata": {
    "collapsed": false,
    "slideshow": {
     "slide_type": "fragment"
    }
   },
   "outputs": [
    {
     "data": {
      "image/png": "[encoded data removed]",
      "text/plain": [
       "<matplotlib.figure.Figure at 0x108b157f0>"
      ]
     },
     "metadata": {},
     "output_type": "display_data"
    }
   ],
   "source": [
    "x = np.arange(0,7); a = np.random.randint(1,6); b = 3;\n",
    "y = a*x + b + np.random.randn(7); plt.scatter(x,y);\n",
    "plt.xlabel('x'); plt.ylabel('y'); plt.xlim([-0.1,6.1]); plt.ylim([0,20]);"
   ]
  },
  {
   "cell_type": "markdown",
   "metadata": {
    "slideshow": {
     "slide_type": "slide"
    }
   },
   "source": [
    "Looking at the data, it appears roughly linear in $x$, i.e. $y\\approx ax+b$. Then, we can to find the model parameters that *best fit* a linear function to our data. Let's look at 5 possibilities of $a$ and see which fits best."
   ]
  },
  {
   "cell_type": "code",
   "execution_count": 24,
   "metadata": {
    "code_folding": [],
    "collapsed": false,
    "run_control": {
     "marked": false
    },
    "slideshow": {
     "slide_type": "fragment"
    }
   },
   "outputs": [
    {
     "name": "stdout",
     "output_type": "stream",
     "text": [
      "True a is 2\n"
     ]
    },
    {
     "data": {
      "image/png": "[encoded data removed]",
      "text/plain": [
       "<matplotlib.figure.Figure at 0x1088b6cf8>"
      ]
     },
     "metadata": {},
     "output_type": "display_data"
    }
   ],
   "source": [
    "x = np.arange(0,7); a = np.random.randint(1,6); b = 3;\n",
    "y = a*x + b + np.random.randn(7); plt.scatter(x,y)\n",
    "for a_ in [1,2,3,4,5]:\n",
    "        plt.plot(x,a_*x+b, label='a='+str(a_))\n",
    "plt.legend(loc=\"nw\"); plt.xlabel('x'); plt.ylabel('y'); plt.xlim([-0.1,6.1]);\n",
    "print(\"True a is \" + str(a))"
   ]
  },
  {
   "cell_type": "markdown",
   "metadata": {
    "slideshow": {
     "slide_type": "slide"
    }
   },
   "source": [
    "If we believe that our *true* underlying signal was a linear function, then our signal model can be used to denoise the observed noisy signal. This is also called *signal recovery*."
   ]
  },
  {
   "cell_type": "markdown",
   "metadata": {
    "slideshow": {
     "slide_type": "fragment"
    }
   },
   "source": [
    "While the model does not exactly fit the data, we are assuming that the discrepancies are the effect of undesired noise."
   ]
  },
  {
   "cell_type": "markdown",
   "metadata": {
    "slideshow": {
     "slide_type": "fragment"
    }
   },
   "source": [
    "Signal modeling is not *always* used to denoise. As an example, let's conduct an experiment where we roll a die repeatedly and sum the numbers that appear."
   ]
  },
  {
   "cell_type": "code",
   "execution_count": 35,
   "metadata": {
    "collapsed": false,
    "slideshow": {
     "slide_type": "slide"
    }
   },
   "outputs": [
    {
     "data": {
      "image/png": "[encoded data removed]",
      "text/plain": [
       "<matplotlib.figure.Figure at 0x109123a20>"
      ]
     },
     "metadata": {},
     "output_type": "display_data"
    }
   ],
   "source": [
    "n = 20; x = np.arange(0,n+1); y = [0]\n",
    "for i in range(n):\n",
    "    y.append(y[i]+np.random.randint(1,7))\n",
    "plt.scatter(x,y); plt.xlim([-0.1,n+0.1]); plt.ylim([-0.1,n*4]);\n",
    "plt.xlabel('Rolls'); plt.ylabel('Sum');"
   ]
  },
  {
   "cell_type": "markdown",
   "metadata": {
    "slideshow": {
     "slide_type": "fragment"
    }
   },
   "source": [
    "Because we don't know what each roll is going to be, we would need to specify the outcome for each of the 20 rolls in order to convey this \"signal\" with complete accuracy."
   ]
  },
  {
   "cell_type": "markdown",
   "metadata": {
    "slideshow": {
     "slide_type": "slide"
    }
   },
   "source": [
    "But maybe we don't need to *exactly* represent the signal. We see that it looks roughly linear, so we can model it with a linear function. Since the sum starts at $0$ and increases by $3.5$ on average, we'll try the model parameters $a=3.5$ and $b=0$."
   ]
  },
  {
   "cell_type": "code",
   "execution_count": 111,
   "metadata": {
    "collapsed": false,
    "slideshow": {
     "slide_type": "fragment"
    }
   },
   "outputs": [
    {
     "data": {
      "image/png": "[encoded data removed]",
      "text/plain": [
       "<matplotlib.figure.Figure at 0x1092e1198>"
      ]
     },
     "metadata": {},
     "output_type": "display_data"
    }
   ],
   "source": [
    "n = 20; x = np.arange(0,n+1); y = [0]\n",
    "for i in range(n):\n",
    "    y.append(y[i]+np.random.randint(1,7))\n",
    "plt.scatter(x,y); plt.xlim([-0.1,n+0.1]); plt.ylim([-0.1,n*4]);\n",
    "plt.plot(x,3.5*x); plt.xlabel('Rolls'); plt.ylabel('Sum');"
   ]
  },
  {
   "cell_type": "markdown",
   "metadata": {
    "slideshow": {
     "slide_type": "fragment"
    }
   },
   "source": [
    "In this sense, we can use our model for *compression*. Even though we won't capture the signal exactly, we only need to represent it with the two parameters $a$ and $b$. In real applications it is unlikely we will know the underlying structure of the signal as we do now and it will require more work to find a good model!"
   ]
  },
  {
   "cell_type": "markdown",
   "metadata": {
    "slideshow": {
     "slide_type": "slide"
    }
   },
   "source": [
    "Now, let's see how we can use linear functions for *prediction*. Below I have (painstakingly) collected the height and shoe size of my friends and family. First let's look at the data:"
   ]
  },
  {
   "cell_type": "code",
   "execution_count": 371,
   "metadata": {
    "collapsed": false,
    "run_control": {
     "marked": true
    },
    "slideshow": {
     "slide_type": "fragment"
    }
   },
   "outputs": [
    {
     "data": {
      "image/png": "[encoded data removed]",
      "text/plain": [
       "<matplotlib.figure.Figure at 0x10cf09278>"
      ]
     },
     "metadata": {},
     "output_type": "display_data"
    }
   ],
   "source": [
    "data_pairs = set([(66,9),(74,12),(73.75,12),(67.5,9.5),(75,13),(75,10.5),\n",
    "                  (61,5.5),(63,6),(70,9.5),(71,10.5),(71,10.5),\n",
    "                  (70.5,8.5),(69,10.5),(69,10),(65,6),(67,9.5),(66,8.5)])\n",
    "height,size = zip(*data_pairs); plt.scatter(height,size);\n",
    "plt.xlabel('Height (inches)'); plt.ylabel('Shoe Size (US Men)');"
   ]
  },
  {
   "cell_type": "markdown",
   "metadata": {
    "slideshow": {
     "slide_type": "fragment"
    }
   },
   "source": [
    "We see that the data looks roughly linear, so we'll model it with a linear function."
   ]
  },
  {
   "cell_type": "markdown",
   "metadata": {
    "slideshow": {
     "slide_type": "slide"
    }
   },
   "source": [
    "In order to fit the model to our data, we need to find an $a$ and $b$ such that $shoe \\ size= a\\cdot height + b$"
   ]
  },
  {
   "cell_type": "markdown",
   "metadata": {
    "slideshow": {
     "slide_type": "fragment"
    }
   },
   "source": [
    "The question now becomes *how* do we determine these model parameters?"
   ]
  },
  {
   "cell_type": "markdown",
   "metadata": {
    "slideshow": {
     "slide_type": "fragment"
    }
   },
   "source": [
    "We must find some *error* for each estimate of the model parameters. This error will measure how far our model is from exactly representing the data."
   ]
  },
  {
   "cell_type": "markdown",
   "metadata": {
    "slideshow": {
     "slide_type": "fragment"
    }
   },
   "source": [
    "Once we have a way of measuring the error, we can find the parameters that minimize the error. These steps are not trivial and are examples of *optimization problems*."
   ]
  },
  {
   "cell_type": "markdown",
   "metadata": {
    "slideshow": {
     "slide_type": "slide"
    }
   },
   "source": [
    "Fortunately, Python has methods for solving for the optimal model parameters."
   ]
  },
  {
   "cell_type": "code",
   "execution_count": 372,
   "metadata": {
    "collapsed": false,
    "slideshow": {
     "slide_type": "fragment"
    }
   },
   "outputs": [
    {
     "data": {
      "image/png": "[encoded data removed]",
      "text/plain": [
       "<matplotlib.figure.Figure at 0x10c4317f0>"
      ]
     },
     "metadata": {},
     "output_type": "display_data"
    }
   ],
   "source": [
    "def linear_func(x,a,b):\n",
    "    return a*x + b\n",
    "[[a,b],err] = optimization.curve_fit(linear_func, height, size, [0,0], 1)\n",
    "plt.scatter(height,size); plt.xlabel('Height (inches)'); plt.ylabel('Shoe Size (US Men)');\n",
    "x = np.asarray([min(height),max(height)]); plt.plot(x,a*x+b);"
   ]
  },
  {
   "cell_type": "markdown",
   "metadata": {
    "slideshow": {
     "slide_type": "fragment"
    }
   },
   "source": [
    "Not bad! We see that our model does decently well at representing how shoe size and height are related."
   ]
  },
  {
   "cell_type": "markdown",
   "metadata": {
    "slideshow": {
     "slide_type": "slide"
    }
   },
   "source": [
    "So, how is this useful? We know that our measurements are all accurate (assuming my friends aren't liars), so why would we want this model that doesn't represent the data perfectly?"
   ]
  },
  {
   "cell_type": "markdown",
   "metadata": {
    "slideshow": {
     "slide_type": "fragment"
    }
   },
   "source": [
    "One reason is *prediction*. It is pretty intuitive that taller people will have a larger shoe size in general, but the exact nature of the relationship is not at all obvious. By creating a model, we are making that relationship exact, and we can use our model to infer shoesize from height:"
   ]
  },
  {
   "cell_type": "code",
   "execution_count": null,
   "metadata": {
    "collapsed": false,
    "slideshow": {
     "slide_type": "fragment"
    }
   },
   "outputs": [],
   "source": [
    "user_height = int(input(\"What is your height in inches? \"))\n",
    "print('Is your shoe size ' + str(a*user_height+b) + '?')"
   ]
  },
  {
   "cell_type": "markdown",
   "metadata": {
    "slideshow": {
     "slide_type": "slide"
    }
   },
   "source": [
    "Not all data can be modeled accurately by linear functions. For example, look at the collection of points below and its corresponding best fit linear function."
   ]
  },
  {
   "cell_type": "code",
   "execution_count": 369,
   "metadata": {
    "collapsed": false,
    "slideshow": {
     "slide_type": "fragment"
    }
   },
   "outputs": [
    {
     "data": {
      "image/png": "[encoded data removed]",
      "text/plain": [
       "<matplotlib.figure.Figure at 0x10e856be0>"
      ]
     },
     "metadata": {},
     "output_type": "display_data"
    }
   ],
   "source": [
    "(xs,measurements,signal) = gen_trials(model='polynomial',model_params=[2,3,1],noise_param=5,N=3)\n",
    "x = xs[0:len(signal)]; plt.scatter(xs,measurements)\n",
    "[[a,b],err] = optimization.curve_fit(linear_func, xs, measurements, [0,0], 1)\n",
    "x = np.asarray([min(xs),max(xs)]); plt.plot(x,a*x+b); plt.xlim([-10.5,9.5]);"
   ]
  },
  {
   "cell_type": "markdown",
   "metadata": {
    "slideshow": {
     "slide_type": "slide"
    }
   },
   "source": [
    "As you may havve guessed, we can model this much more accurately with a quadratic model, where we find the optimal $a$, $b$, and $c$ for the model $y=ax^2+bx+c$."
   ]
  },
  {
   "cell_type": "code",
   "execution_count": 370,
   "metadata": {
    "collapsed": false
   },
   "outputs": [
    {
     "data": {
      "image/png": "[encoded data removed]",
      "text/plain": [
       "<matplotlib.figure.Figure at 0x10d1d3860>"
      ]
     },
     "metadata": {},
     "output_type": "display_data"
    }
   ],
   "source": [
    "(xs,measurements,signal) = gen_trials(model='polynomial',model_params=[2,3,1],noise_param=5,N=3)\n",
    "x = xs[0:len(signal)]; plt.scatter(xs,measurements)\n",
    "def quadratic_func(x,a,b,c):\n",
    "    return a*x*x + b*x + c \n",
    "[[a,b,c],err] = optimization.curve_fit(quadratic_func, xs, measurements, [0,0,0], 1)\n",
    "plt.plot(np.asarray(x),c+b*np.asarray(x)+a*np.asarray(x)**2);\n",
    "[[a,b],err] = optimization.curve_fit(linear_func, xs, measurements, [0,0], 1)\n",
    "x = np.asarray([min(xs),max(xs)]); plt.plot(x,a*x+b); plt.xlim([-10.5,9.5]);"
   ]
  },
  {
   "cell_type": "markdown",
   "metadata": {
    "slideshow": {
     "slide_type": "slide"
    }
   },
   "source": [
    "Can we use higher order polynomials as models? Are these always better?"
   ]
  },
  {
   "cell_type": "markdown",
   "metadata": {
    "slideshow": {
     "slide_type": "fragment"
    }
   },
   "source": [
    "While we can use higher order polynomials, they are not always better. Whenever we are working with models, it is important to think carefully about how we try to model signals."
   ]
  },
  {
   "cell_type": "markdown",
   "metadata": {
    "slideshow": {
     "slide_type": "fragment"
    }
   },
   "source": [
    "Fact: You can always represent $n$ points with an order $n-1$ polynomial. But this introduces an issue known as *overfitting*. "
   ]
  },
  {
   "cell_type": "markdown",
   "metadata": {
    "slideshow": {
     "slide_type": "slide"
    }
   },
   "source": [
    "Let's try fitting a 10th order polynomial to our same height data, i.e. solving for the parameters in the model:\n",
    "$$y=ax^9+bx^8+cx^7+dx^6+ex^5+fx^4+gx^3+hx^2+ix+j$$"
   ]
  },
  {
   "cell_type": "code",
   "execution_count": 374,
   "metadata": {
    "collapsed": false,
    "slideshow": {
     "slide_type": "fragment"
    }
   },
   "outputs": [
    {
     "data": {
      "image/png": "[encoded data removed]",
      "text/plain": [
       "<matplotlib.figure.Figure at 0x10bfef208>"
      ]
     },
     "metadata": {},
     "output_type": "display_data"
    }
   ],
   "source": [
    "def big_poly(x,a,b,c,d,e,f,g,h,i,j):\n",
    "    return a*(x**9)+b*(x**8)+c*(x**7)+d*(x**6)+e*(x**5)+f*(x**4)+g*(x**3)+h*(x**2)+i*x+j\n",
    "[[a,b,c,d,e,f,g,h,i,j],err] = optimization.curve_fit(big_poly, height, size, [0,0,0,0,0,0,0,0,0,0], 1)\n",
    "plt.scatter(height,size); plt.xlabel('Height (inches)'); plt.ylabel('Shoe Size (US Men)');\n",
    "x = np.arange(min(height),max(height),0.1); \n",
    "plt.plot(x,a*(x**9)+b*(x**8)+c*(x**7)+d*(x**6)+e*(x**5)+f*(x**4)+g*(x**3)+h*(x**2)+i*x+j);"
   ]
  },
  {
   "cell_type": "markdown",
   "metadata": {
    "slideshow": {
     "slide_type": "fragment"
    }
   },
   "source": [
    "Notice that our model would guess that somebody who is 71 inches tall would have a *smaller* shoe size than someone that is 68 inches tall! In this case our model may have smaller error on our data set, but it may not accurately represent the *general* relationship between height and shoe size."
   ]
  },
  {
   "cell_type": "markdown",
   "metadata": {
    "slideshow": {
     "slide_type": "slide"
    }
   },
   "source": [
    "To further illustrate how important it is to give proper thought to model selection, we'll revisit our first example, where we perfectly fit a set of points to a line."
   ]
  },
  {
   "cell_type": "code",
   "execution_count": 221,
   "metadata": {
    "collapsed": false,
    "slideshow": {
     "slide_type": "fragment"
    }
   },
   "outputs": [
    {
     "data": {
      "image/png": "[encoded data removed]",
      "text/plain": [
       "<matplotlib.figure.Figure at 0x10c0a8240>"
      ]
     },
     "metadata": {},
     "output_type": "display_data"
    }
   ],
   "source": [
    "x_values = [0,1,2,3,4,5,6]; y_values = [3,6,9,12,15,18,21]\n",
    "a = 3; b = 3; x = np.asarray(x_values)\n",
    "plt.scatter(x_values,y_values); plt.plot(x,a*x+b) \n",
    "plt.xlabel('x'); plt.ylabel('y'); plt.xlim([-0.1,6.1]); plt.ylim([0,25]);"
   ]
  },
  {
   "cell_type": "markdown",
   "metadata": {
    "slideshow": {
     "slide_type": "fragment"
    }
   },
   "source": [
    "It is pretty safe to assume that if you ask anybody to fit those points to a model they would pick a line. Is this the only model that will fit the points?"
   ]
  },
  {
   "cell_type": "markdown",
   "metadata": {
    "slideshow": {
     "slide_type": "slide"
    }
   },
   "source": [
    "Definitely not! Consider, for example, a sinusoid that has a linear offset:"
   ]
  },
  {
   "cell_type": "code",
   "execution_count": 284,
   "metadata": {
    "collapsed": false,
    "slideshow": {
     "slide_type": "fragment"
    }
   },
   "outputs": [
    {
     "data": {
      "image/png": "[encoded data removed]",
      "text/plain": [
       "<matplotlib.figure.Figure at 0x10cab4048>"
      ]
     },
     "metadata": {},
     "output_type": "display_data"
    }
   ],
   "source": [
    "x_values = [0,1,2,3,4,5,6]; y_values = [3,6,9,12,15,18,21]\n",
    "a = 3; b = 3; x = np.arange(0,6,0.01)\n",
    "plt.scatter(x_values,y_values); plt.plot(x,a*x+b); plt.plot(x,a*x+b+3*np.sin(np.pi*x))\n",
    "plt.xlabel('x'); plt.ylabel('y'); plt.xlim([-0.1,6.1]); plt.ylim([0,25]);"
   ]
  },
  {
   "cell_type": "markdown",
   "metadata": {
    "slideshow": {
     "slide_type": "fragment"
    }
   },
   "source": [
    "This is just one example of a model that perfectly fits these points. While the linear function seems like a *better* model, it really depends on the situation. The linear offset sinusoid certainly appears in far fewer (if any!) scenarios, but it is important to think carefully before choosing *any* model."
   ]
  }
 ],
 "metadata": {
  "celltoolbar": "Slideshow",
  "kernelspec": {
   "display_name": "IPython (Python 3)",
   "language": "python",
   "name": "python3"
  },
  "language_info": {
   "codemirror_mode": {
    "name": "ipython",
    "version": 3
   },
   "file_extension": ".py",
   "mimetype": "text/x-python",
   "name": "python",
   "nbconvert_exporter": "python",
   "pygments_lexer": "ipython3",
   "version": "3.4.3"
  },
  "latex_envs": {
   "bibliofile": "biblio.bib",
   "cite_by": "apalike",
   "current_citInitial": 1,
   "eqLabelWithNumbers": true,
   "eqNumInitial": 0
  },
  "widgets": {
   "state": {},
   "version": "1.1.1"
  }
 },
 "nbformat": 4,
 "nbformat_minor": 0
}
